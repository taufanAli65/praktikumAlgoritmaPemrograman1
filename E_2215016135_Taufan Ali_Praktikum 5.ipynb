{
 "cells": [
  {
   "cell_type": "code",
   "execution_count": null,
   "id": "a83abd72",
   "metadata": {
    "scrolled": true
   },
   "outputs": [],
   "source": [
    "class python:\n",
    "    def case_1():\n",
    "        kali = a*b\n",
    "        print(\"Hasil Perkalian a*b : \", kali)\n",
    "    def case_2():\n",
    "        kurang = a-b\n",
    "        print(\"Hasil Pengurangan A-B : \", kurang)\n",
    "    def case_3():\n",
    "        tambah = a+b\n",
    "        print(\"Hasil Penjumlahan A+B : \", tambah)\n",
    "\n",
    "print(\"==================\")\n",
    "print(\"Pilih operator bilangan : \")\n",
    "print(\"1. Perkalian(*)\")\n",
    "print(\"2. Pengurangan(-)\")\n",
    "print(\"3. Pertambahan(+)\")\n",
    "print(\"==================\")\n",
    "\n",
    "pilih = int(input(\"Pilih operator bilangan : \"))   \n",
    "a = int(input(\"Masukkan Nilai A : \"))\n",
    "b = int(input(\"Masukkan Nilai B : \"))\n",
    "if pilih == 1:\n",
    "    print(python.case_1())\n",
    "elif pilih == 2:\n",
    "    print(python.case_2())\n",
    "elif pilih == 3:\n",
    "    print(python.case_3())\n",
    "else:\n",
    "            print(\"error\")"
   ]
  },
  {
   "cell_type": "code",
   "execution_count": null,
   "id": "57e5cd3b",
   "metadata": {},
   "outputs": [],
   "source": [
    "nilai = input(\"Masukkan Karakter : \")\n",
    "a = {\n",
    "    'a' : \"Pertahankan\",\n",
    "    'b' : \"Perbanyak Belajar\",\n",
    "    'c' : \"Jangan Keseringan Main\",\n",
    "    'd' : \"Harus Lebih Baik Lagi\",\n",
    "    'e' : \"Kebanyakan Bolos\"\n",
    "}\n",
    "\n",
    "print(a[nilai])"
   ]
  },
  {
   "cell_type": "code",
   "execution_count": 1,
   "id": "27387d75",
   "metadata": {
    "scrolled": false
   },
   "outputs": [
    {
     "name": "stdout",
     "output_type": "stream",
     "text": [
      "==================\n",
      "Luas Bidang : \n",
      "1. Persegi Panjang\n",
      "2. Segitiga\n",
      "3. Lingkaran\n",
      "==================\n",
      "Luas bidang : 3\n",
      "Jari-Jari : 10\n",
      "luas :  314.0\n",
      "None\n"
     ]
    }
   ],
   "source": [
    "print(\"==================\")\n",
    "print(\"Luas Bidang : \")\n",
    "print(\"1. Persegi Panjang\")\n",
    "print(\"2. Segitiga\")\n",
    "print(\"3. Lingkaran\")\n",
    "print(\"==================\")\n",
    "class luas:\n",
    "   def case_1():\n",
    "        p = int(input(\"Panjang : \"))\n",
    "        l = int(input(\"Lebar : \"))\n",
    "        luas = p*l\n",
    "        print(\"luas : \", luas)\n",
    "        \n",
    "   def case_2():\n",
    "         a = int(input(\"Alas : \"))\n",
    "         t = int(input(\"Tinggi : \"))\n",
    "         luas = 1/2 * a * t\n",
    "         print(\"luas : \", luas)\n",
    "         \n",
    "   def case_3():\n",
    "          r = int(input(\"Jari-Jari : \"))\n",
    "          luas = 3.14 * r * r\n",
    "          print(\"luas : \", luas)\n",
    "          \n",
    "           \n",
    "pilih = int(input(\"Luas bidang : \"))\n",
    "if pilih == 1:\n",
    "    print(luas.case_1())\n",
    "elif pilih == 2:\n",
    "    print(luas.case_2())\n",
    "elif pilih == 3:\n",
    "    print(luas.case_3())\n",
    "else:\n",
    "            print(\"error\")\n",
    "            "
   ]
  },
  {
   "cell_type": "code",
   "execution_count": null,
   "id": "dba55321",
   "metadata": {},
   "outputs": [],
   "source": []
  }
 ],
 "metadata": {
  "kernelspec": {
   "display_name": "Python 3 (ipykernel)",
   "language": "python",
   "name": "python3"
  },
  "language_info": {
   "codemirror_mode": {
    "name": "ipython",
    "version": 3
   },
   "file_extension": ".py",
   "mimetype": "text/x-python",
   "name": "python",
   "nbconvert_exporter": "python",
   "pygments_lexer": "ipython3",
   "version": "3.9.7"
  }
 },
 "nbformat": 4,
 "nbformat_minor": 5
}
