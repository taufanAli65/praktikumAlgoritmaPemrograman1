{
 "cells": [
  {
   "cell_type": "code",
   "execution_count": 5,
   "id": "a411d8f8",
   "metadata": {},
   "outputs": [
    {
     "name": "stdout",
     "output_type": "stream",
     "text": [
      "[1, 2, 3, 4, 5, 6, 7, 8, 9]\n"
     ]
    }
   ],
   "source": [
    "def insertionsort(Array):\n",
    "    for i in range(1, len(A)):\n",
    "        x = A[i]\n",
    "        j=i-1\n",
    "        while j>=0 and x <A[j]:\n",
    "            A[j+1]=A[j]\n",
    "            j=j-1\n",
    "            A[j+1]= x\n",
    "        \n",
    "A = [2,9,1,8,3,6,7,5,4]\n",
    "insertionsort(A)\n",
    "print(A)"
   ]
  },
  {
   "cell_type": "code",
   "execution_count": null,
   "id": "4949d93e",
   "metadata": {},
   "outputs": [],
   "source": []
  },
  {
   "cell_type": "code",
   "execution_count": null,
   "id": "a1ba5b1c",
   "metadata": {},
   "outputs": [],
   "source": []
  }
 ],
 "metadata": {
  "kernelspec": {
   "display_name": "Python 3 (ipykernel)",
   "language": "python",
   "name": "python3"
  },
  "language_info": {
   "codemirror_mode": {
    "name": "ipython",
    "version": 3
   },
   "file_extension": ".py",
   "mimetype": "text/x-python",
   "name": "python",
   "nbconvert_exporter": "python",
   "pygments_lexer": "ipython3",
   "version": "3.9.7"
  }
 },
 "nbformat": 4,
 "nbformat_minor": 5
}
