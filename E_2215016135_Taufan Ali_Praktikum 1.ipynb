{
 "cells": [
  {
   "cell_type": "code",
   "execution_count": 28,
   "metadata": {},
   "outputs": [
    {
     "name": "stdout",
     "output_type": "stream",
     "text": [
      "Masukkan a : 1\n",
      "Masukkan b : 1\n",
      "Masukkan c : -2\n",
      "solusinya adalah 1.0 dan -2.0\n"
     ]
    }
   ],
   "source": [
    "import math\n",
    "\n",
    "a = int(input('Masukkan a : '))\n",
    "b = int(input('Masukkan b : '))\n",
    "c = int(input('Masukkan c : '))\n",
    "\n",
    "d = (b**2) - (4*a*c)\n",
    "\n",
    "x1 = (-b+math.sqrt(d))/(2*a)\n",
    "x2 = (-b-math.sqrt(d))/(2*a)\n",
    "\n",
    "print ('solusinya adalah {0} dan {1}'.format(x1, x2))"
   ]
  },
  {
   "cell_type": "code",
   "execution_count": 18,
   "metadata": {},
   "outputs": [
    {
     "name": "stdout",
     "output_type": "stream",
     "text": [
      "Masukkan nilai d1 : 6\n",
      "Masukkan nilai d2 : 3\n",
      "9.0\n"
     ]
    }
   ],
   "source": [
    "a = int(input('Masukkan nilai d1 : '))\n",
    "b = int(input('Masukkan nilai d2 : '))\n",
    "rumus = 1 / 2 * a * b\n",
    "print (rumus)"
   ]
  },
  {
   "cell_type": "code",
   "execution_count": 22,
   "metadata": {},
   "outputs": [
    {
     "name": "stdout",
     "output_type": "stream",
     "text": [
      "Masukkan Nilai r : 10\n",
      "Masukkan Nilai t : 30\n",
      "9420.0\n"
     ]
    }
   ],
   "source": [
    "pi = float(3.14)\n",
    "r = int(input('Masukkan Nilai r : '))\n",
    "t = int(input('Masukkan Nilai t : '))\n",
    "rumus = pi * r ** 2 * t\n",
    "print(rumus)"
   ]
  },
  {
   "cell_type": "code",
   "execution_count": null,
   "metadata": {},
   "outputs": [],
   "source": []
  },
  {
   "cell_type": "code",
   "execution_count": null,
   "metadata": {},
   "outputs": [],
   "source": []
  },
  {
   "cell_type": "code",
   "execution_count": null,
   "metadata": {},
   "outputs": [],
   "source": []
  }
 ],
 "metadata": {
  "kernelspec": {
   "display_name": "Python 3",
   "language": "python",
   "name": "python3"
  },
  "language_info": {
   "codemirror_mode": {
    "name": "ipython",
    "version": 3
   },
   "file_extension": ".py",
   "mimetype": "text/x-python",
   "name": "python",
   "nbconvert_exporter": "python",
   "pygments_lexer": "ipython3",
   "version": "3.7.3"
  }
 },
 "nbformat": 4,
 "nbformat_minor": 2
}
