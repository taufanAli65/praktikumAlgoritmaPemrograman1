{
 "cells": [
  {
   "cell_type": "code",
   "execution_count": 1,
   "id": "f5e25a9a",
   "metadata": {},
   "outputs": [
    {
     "name": "stdout",
     "output_type": "stream",
     "text": [
      "List ke-3 adalah : Windah\n",
      "List ke 1 adalah Yanto\n",
      "List ke 2 adalah Agil\n",
      "List ke 3 adalah Arif\n",
      "List ke 4 adalah Windah\n",
      "List ke 5 adalah Basudara\n",
      "Panjang List :  5\n"
     ]
    }
   ],
   "source": [
    "absen = [\"Yanto\", \"Agil\", \"Arif\", \"Windah\", \"Basudara\"]\n",
    "\n",
    "print(\"List ke-3 adalah :\", absen[3])\n",
    "\n",
    "n = 1\n",
    "for i in absen :\n",
    "    print(\"List ke\", n, \"adalah\", i)\n",
    "    n += 1\n",
    "    \n",
    "print(\"Panjang List : \", len(absen))"
   ]
  },
  {
   "cell_type": "code",
   "execution_count": 1,
   "id": "b1d2ac43",
   "metadata": {
    "scrolled": false
   },
   "outputs": [
    {
     "name": "stdout",
     "output_type": "stream",
     "text": [
      "Input hobi baru yang ke 1 : Memasak\n",
      "Mau isi lagi? y/n : y\n",
      "Input hobi baru yang ke 2 : Mengoding\n",
      "Mau isi lagi? y/n : y\n",
      "Input hobi baru yang ke 3 : Membaca\n",
      "Mau isi lagi? y/n : n\n",
      "====================\n",
      "Kamu memiliki 3 hobi\n",
      " -  Memasak \n",
      " -  Mengoding \n",
      " -  Membaca \n"
     ]
    }
   ],
   "source": [
    "hobi = []\n",
    "\n",
    "stop = False\n",
    "i = 1\n",
    "\n",
    "while(not stop) :\n",
    "    hobi_baru = input(\"Input hobi baru yang ke {} : \".format(i))\n",
    "    hobi.append(hobi_baru)\n",
    "    i += 1\n",
    "    \n",
    "    tanya = input(\"Mau isi lagi? y/n : \")\n",
    "    if tanya == \"n\" :\n",
    "        stop = True\n",
    "        \n",
    "print(\"=\" * 20)\n",
    "print(\"Kamu memiliki {} hobi\".format(len(hobi)))\n",
    "for hb in hobi :\n",
    "    print(\" -  {} \".format(hb))"
   ]
  },
  {
   "cell_type": "code",
   "execution_count": null,
   "id": "35222530",
   "metadata": {},
   "outputs": [],
   "source": []
  }
 ],
 "metadata": {
  "kernelspec": {
   "display_name": "Python 3 (ipykernel)",
   "language": "python",
   "name": "python3"
  },
  "language_info": {
   "codemirror_mode": {
    "name": "ipython",
    "version": 3
   },
   "file_extension": ".py",
   "mimetype": "text/x-python",
   "name": "python",
   "nbconvert_exporter": "python",
   "pygments_lexer": "ipython3",
   "version": "3.9.7"
  }
 },
 "nbformat": 4,
 "nbformat_minor": 5
}
