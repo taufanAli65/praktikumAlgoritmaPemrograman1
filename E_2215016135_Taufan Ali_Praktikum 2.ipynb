{
 "cells": [
  {
   "cell_type": "code",
   "execution_count": 4,
   "id": "5c116fcc",
   "metadata": {
    "scrolled": false
   },
   "outputs": [
    {
     "name": "stdout",
     "output_type": "stream",
     "text": [
      "nilai a =  6.1\n",
      "nilai b =  5.15\n",
      "nilai c =  3.14\n"
     ]
    }
   ],
   "source": [
    "#tipe data float\n",
    "a = float(6.1)\n",
    "b = float(5.15)\n",
    "c = float(3.14)\n",
    "print (\"nilai a = \", a)\n",
    "print (\"nilai b = \", b)\n",
    "print (\"nilai c = \", c)"
   ]
  },
  {
   "cell_type": "code",
   "execution_count": 13,
   "id": "27834201",
   "metadata": {},
   "outputs": [
    {
     "name": "stdout",
     "output_type": "stream",
     "text": [
      "nilai a :  4\n",
      "nilai b :  5\n",
      "nilai c :  6\n"
     ]
    }
   ],
   "source": [
    "#tipe data integer\n",
    "a = int(4)\n",
    "b = int(5)\n",
    "c = int(6)\n",
    "print(\"nilai a : \", a)\n",
    "print(\"nilai b : \", b)\n",
    "print(\"nilai c : \", c)"
   ]
  },
  {
   "cell_type": "code",
   "execution_count": 8,
   "id": "d9a56953",
   "metadata": {},
   "outputs": [
    {
     "name": "stdout",
     "output_type": "stream",
     "text": [
      "hello world\n",
      "nama saya ali\n",
      "belajar python\n"
     ]
    }
   ],
   "source": [
    "#tipe data string\n",
    "print(\"hello world\")\n",
    "print(\"nama saya ali\")\n",
    "print(\"belajar python\")"
   ]
  },
  {
   "cell_type": "code",
   "execution_count": 12,
   "id": "f7410212",
   "metadata": {
    "scrolled": true
   },
   "outputs": [
    {
     "name": "stdout",
     "output_type": "stream",
     "text": [
      "['mangga', 'rambutan', 'anggur']\n",
      "['sawi', 'cabe', 'brokoli']\n",
      "['bakso', 'mie ayam', 'roti']\n"
     ]
    }
   ],
   "source": [
    "#tipe data list\n",
    "listA = ['mangga', 'rambutan', 'anggur']\n",
    "listB = ['sawi', 'cabe', 'brokoli']\n",
    "listC = ['bakso', 'mie ayam', 'roti']\n",
    "print(listA)\n",
    "print(listB)\n",
    "print(listC)"
   ]
  },
  {
   "cell_type": "code",
   "execution_count": 2,
   "id": "42696844",
   "metadata": {},
   "outputs": [
    {
     "name": "stdout",
     "output_type": "stream",
     "text": [
      "False\n",
      "False\n",
      "True\n"
     ]
    }
   ],
   "source": [
    "#tipe data boolean\n",
    "a = 5\n",
    "b = 10\n",
    "print (bool(a == b))\n",
    "print (bool(a > b))\n",
    "print (bool(a < b))"
   ]
  },
  {
   "cell_type": "code",
   "execution_count": 24,
   "id": "2239d19d",
   "metadata": {
    "scrolled": true
   },
   "outputs": [
    {
     "name": "stdout",
     "output_type": "stream",
     "text": [
      "Masukkan angka yang ingin dikonversi ke hexa : 5\n",
      "Masukkan angka yang ingin dikonversi ke hexa : 4\n",
      "Masukkan angka yang ingin dikonversi ke hexa : 10\n",
      "hasil hexadecimal dari bilangan  5  adalah  0x5\n",
      "hasil hexadecimal dari bilangan  4  adalah  0x4\n",
      "hasil hexadecimal dari bilangan  10  adalah  0xa\n"
     ]
    }
   ],
   "source": [
    "#tipe data hexadecimal\n",
    "a = int (input(\"Masukkan angka yang ingin dikonversi ke hexa : \"))\n",
    "b = int (input(\"Masukkan angka yang ingin dikonversi ke hexa : \"))\n",
    "c = int (input(\"Masukkan angka yang ingin dikonversi ke hexa : \"))\n",
    "print(\"hasil hexadecimal dari bilangan \", a, \" adalah \", hex (a))\n",
    "print(\"hasil hexadecimal dari bilangan \", b, \" adalah \", hex (b))\n",
    "print(\"hasil hexadecimal dari bilangan \", c, \" adalah \", hex (c))"
   ]
  },
  {
   "cell_type": "code",
   "execution_count": 5,
   "id": "ac3166c7",
   "metadata": {},
   "outputs": [
    {
     "name": "stdout",
     "output_type": "stream",
     "text": [
      "('a', 'b', 'c')\n",
      "('1', '2', '3')\n",
      "('a1', 'a2', 'a3')\n"
     ]
    }
   ],
   "source": [
    "#tipe data tuple\n",
    "d = tuple(['a', 'b', 'c'])\n",
    "e = tuple(['1', '2', '3'])\n",
    "f = tuple(['a1', 'a2', 'a3'])\n",
    "print (d)\n",
    "print (e)\n",
    "print (f)"
   ]
  },
  {
   "cell_type": "code",
   "execution_count": 22,
   "id": "1559c1f6",
   "metadata": {},
   "outputs": [
    {
     "name": "stdout",
     "output_type": "stream",
     "text": [
      "{'nama': 'Taufan Ali', 'usia': '18'}\n",
      "18\n",
      "{'makan': 'bakso', 'minum': 'es teh'}\n",
      "bakso\n",
      "{'universitas': 'uad', 'prodi': 'sistem informasi'}\n",
      "sistem informasi\n"
     ]
    }
   ],
   "source": [
    "#tipe data dictionary\n",
    "biodata = {\n",
    "'nama' : 'Taufan Ali',\n",
    "'usia' : '18' }\n",
    "\n",
    "dhahar = {\n",
    "'makan' : 'bakso',\n",
    "'minum' : 'es teh' }\n",
    "\n",
    "sekolah = {\n",
    "'universitas' : 'uad',\n",
    "'prodi' : 'sistem informasi'\n",
    "}\n",
    "\n",
    "print (biodata)\n",
    "print (biodata['usia'])\n",
    "print (dhahar)\n",
    "print (dhahar['makan'])\n",
    "print (sekolah)\n",
    "print (sekolah['prodi'])"
   ]
  },
  {
   "cell_type": "code",
   "execution_count": null,
   "id": "da577c4f",
   "metadata": {},
   "outputs": [],
   "source": []
  }
 ],
 "metadata": {
  "kernelspec": {
   "display_name": "Python 3 (ipykernel)",
   "language": "python",
   "name": "python3"
  },
  "language_info": {
   "codemirror_mode": {
    "name": "ipython",
    "version": 3
   },
   "file_extension": ".py",
   "mimetype": "text/x-python",
   "name": "python",
   "nbconvert_exporter": "python",
   "pygments_lexer": "ipython3",
   "version": "3.9.7"
  }
 },
 "nbformat": 4,
 "nbformat_minor": 5
}
