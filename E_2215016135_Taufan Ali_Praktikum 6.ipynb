{
 "cells": [
  {
   "cell_type": "code",
   "execution_count": null,
   "metadata": {},
   "outputs": [],
   "source": [
    "x = int(input(\"Masukkan Nilai X : \"))\n",
    "jml = 0\n",
    "\n",
    "for i in range(1, x+1):\n",
    "    if i % 2 == 0:\n",
    "        print(i)\n",
    "        jml = jml+i\n",
    "print(\"Hasil Penjumlahan X = \", jml)        "
   ]
  },
  {
   "cell_type": "code",
   "execution_count": 5,
   "metadata": {},
   "outputs": [
    {
     "name": "stdout",
     "output_type": "stream",
     "text": [
      "Masukkan Nilai n : 10\n",
      "Masukkan Nilai a : 5\n",
      "Masukkan Nilai a : 5\n",
      "Masukkan Nilai a : 5\n",
      "Masukkan Nilai a : 5\n",
      "Masukkan Nilai a : 5\n",
      "2.5\n"
     ]
    }
   ],
   "source": [
    "jml = 0\n",
    "i = 1\n",
    "n = int(input(\"Masukkan Nilai n : \"))\n",
    "\n",
    "for x in range(n):\n",
    "    if i < n:\n",
    "        i = i + x\n",
    "        a = int(input(\"Masukkan Nilai a : \"))\n",
    "        jml = jml + a\n",
    "    rata = jml/n\n",
    "print(rata)"
   ]
  }
 ],
 "metadata": {
  "kernelspec": {
   "display_name": "Python 3",
   "language": "python",
   "name": "python3"
  },
  "language_info": {
   "codemirror_mode": {
    "name": "ipython",
    "version": 3
   },
   "file_extension": ".py",
   "mimetype": "text/x-python",
   "name": "python",
   "nbconvert_exporter": "python",
   "pygments_lexer": "ipython3",
   "version": "3.7.3"
  }
 },
 "nbformat": 4,
 "nbformat_minor": 2
}
