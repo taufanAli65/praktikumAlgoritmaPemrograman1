{
 "cells": [
  {
   "cell_type": "code",
   "execution_count": 22,
   "metadata": {},
   "outputs": [
    {
     "name": "stdout",
     "output_type": "stream",
     "text": [
      "Masukkan Nilai A = 2\n",
      "Masukkan Nilai B = 2\n",
      "4 ^2  +  4 ^2  =  8 ^2\n"
     ]
    },
    {
     "data": {
      "text/plain": [
       "12"
      ]
     },
     "execution_count": 22,
     "metadata": {},
     "output_type": "execute_result"
    }
   ],
   "source": [
    "#rumus persamaan pythagoras\n",
    "a = int(input(\"Masukkan Nilai A = \"))\n",
    "b = int(input(\"Masukkan Nilai B = \"))\n",
    "\n",
    "d = a**2\n",
    "e = b**2\n",
    "c = d + e\n",
    "\n",
    "print(d,\"^2\", \" + \", e,\"^2\", \" = \", c, \"^2\" )\n",
    "\n",
    "a + b + c"
   ]
  },
  {
   "cell_type": "code",
   "execution_count": 17,
   "metadata": {},
   "outputs": [
    {
     "name": "stdout",
     "output_type": "stream",
     "text": [
      "0\n",
      "3\n",
      "4\n",
      "0\n"
     ]
    }
   ],
   "source": [
    "#modules\n",
    "print(6%3)\n",
    "print(75%4)\n",
    "print(124%5)\n",
    "print(225%5)"
   ]
  },
  {
   "cell_type": "code",
   "execution_count": null,
   "metadata": {},
   "outputs": [],
   "source": []
  }
 ],
 "metadata": {
  "kernelspec": {
   "display_name": "Python 3 (ipykernel)",
   "language": "python",
   "name": "python3"
  },
  "language_info": {
   "codemirror_mode": {
    "name": "ipython",
    "version": 3
   },
   "file_extension": ".py",
   "mimetype": "text/x-python",
   "name": "python",
   "nbconvert_exporter": "python",
   "pygments_lexer": "ipython3",
   "version": "3.9.12"
  }
 },
 "nbformat": 4,
 "nbformat_minor": 2
}
