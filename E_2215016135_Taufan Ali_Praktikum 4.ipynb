{
 "cells": [
  {
   "cell_type": "code",
   "execution_count": 4,
   "metadata": {},
   "outputs": [
    {
     "name": "stdout",
     "output_type": "stream",
     "text": [
      "Masukkan nilai : 7\n",
      "Angka Ganjil\n"
     ]
    }
   ],
   "source": [
    "#Menentukan Angka Ganjil/Genap\n",
    "a = int(input(\"Masukkan nilai : \"))\n",
    "\n",
    "if a % 2 == 0 :\n",
    "    print(\"Angka Genap\")\n",
    "else :\n",
    "    print(\"Angka Ganjil\")"
   ]
  },
  {
   "cell_type": "code",
   "execution_count": 22,
   "metadata": {},
   "outputs": [
    {
     "name": "stdout",
     "output_type": "stream",
     "text": [
      "19\n"
     ]
    }
   ],
   "source": [
    "#Nilai Maksimum\n",
    "x = 3\n",
    "y = 5\n",
    "z = 19\n",
    "\n",
    "if x > y and x > z :\n",
    "    print(x)\n",
    "elif x < y and y > z :\n",
    "    print(y)\n",
    "else :\n",
    "    print(z)"
   ]
  },
  {
   "cell_type": "code",
   "execution_count": null,
   "metadata": {},
   "outputs": [],
   "source": []
  }
 ],
 "metadata": {
  "kernelspec": {
   "display_name": "Python 3",
   "language": "python",
   "name": "python3"
  },
  "language_info": {
   "codemirror_mode": {
    "name": "ipython",
    "version": 3
   },
   "file_extension": ".py",
   "mimetype": "text/x-python",
   "name": "python",
   "nbconvert_exporter": "python",
   "pygments_lexer": "ipython3",
   "version": "3.7.3"
  }
 },
 "nbformat": 4,
 "nbformat_minor": 2
}
