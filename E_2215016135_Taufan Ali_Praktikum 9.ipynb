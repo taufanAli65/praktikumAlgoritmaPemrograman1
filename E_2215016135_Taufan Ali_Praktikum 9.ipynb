{
 "cells": [
  {
   "cell_type": "code",
   "execution_count": 10,
   "id": "70ec73ef",
   "metadata": {},
   "outputs": [
    {
     "name": "stdout",
     "output_type": "stream",
     "text": [
      "belajar program\n",
      "Jumlah Huruf Vokal : 5\n",
      "['e', 'a', 'a', 'o', 'a']\n"
     ]
    }
   ],
   "source": [
    "vokal = ['a', 'i', 'u', 'e', 'o']\n",
    "kalimat = 'belajar program'\n",
    "jml = 0\n",
    "kata = []\n",
    "\n",
    "for i in kalimat:\n",
    "    print(i, end=\"\")\n",
    "    if i in vokal:\n",
    "        jml += 1\n",
    "        kata.append(i)\n",
    "print()\n",
    "print(\"Jumlah Huruf Vokal :\", jml)\n",
    "print(kata)"
   ]
  },
  {
   "cell_type": "code",
   "execution_count": 25,
   "id": "21230dc5",
   "metadata": {},
   "outputs": [
    {
     "name": "stdout",
     "output_type": "stream",
     "text": [
      "Masukkan Kalimat : Taufan Ali Sedang Belajar Bahasa Pemrograman Python\n",
      "Jumlah kata dalam kalimat diatas adalah  7\n"
     ]
    }
   ],
   "source": [
    "kalimat = input('Masukkan Kalimat : ')\n",
    "jml = 1\n",
    "\n",
    "for i in kalimat:\n",
    "    if i == ' ':\n",
    "        jml += 1\n",
    "print(\"Jumlah kata dalam kalimat diatas adalah \", jml)"
   ]
  },
  {
   "cell_type": "code",
   "execution_count": null,
   "id": "8a43394a",
   "metadata": {},
   "outputs": [],
   "source": []
  }
 ],
 "metadata": {
  "kernelspec": {
   "display_name": "Python 3 (ipykernel)",
   "language": "python",
   "name": "python3"
  },
  "language_info": {
   "codemirror_mode": {
    "name": "ipython",
    "version": 3
   },
   "file_extension": ".py",
   "mimetype": "text/x-python",
   "name": "python",
   "nbconvert_exporter": "python",
   "pygments_lexer": "ipython3",
   "version": "3.7.15"
  }
 },
 "nbformat": 4,
 "nbformat_minor": 5
}
